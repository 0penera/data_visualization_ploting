{
 "cells": [
  {
   "cell_type": "code",
   "execution_count": 1,
   "id": "e0e1788c",
   "metadata": {},
   "outputs": [],
   "source": [
    "import matplotlib.pyplot as plt\n",
    "import numpy as np\n",
    "import pandas as pd"
   ]
  },
  {
   "cell_type": "code",
   "execution_count": 2,
   "id": "5a1af3d8",
   "metadata": {},
   "outputs": [],
   "source": [
    "gasp = pd.read_csv('gas_prices.csv')"
   ]
  },
  {
   "cell_type": "code",
   "execution_count": 3,
   "id": "4fcbade4",
   "metadata": {},
   "outputs": [
    {
     "data": {
      "text/html": [
       "<div>\n",
       "<style scoped>\n",
       "    .dataframe tbody tr th:only-of-type {\n",
       "        vertical-align: middle;\n",
       "    }\n",
       "\n",
       "    .dataframe tbody tr th {\n",
       "        vertical-align: top;\n",
       "    }\n",
       "\n",
       "    .dataframe thead th {\n",
       "        text-align: right;\n",
       "    }\n",
       "</style>\n",
       "<table border=\"1\" class=\"dataframe\">\n",
       "  <thead>\n",
       "    <tr style=\"text-align: right;\">\n",
       "      <th></th>\n",
       "      <th>Year</th>\n",
       "      <th>Australia</th>\n",
       "      <th>Canada</th>\n",
       "      <th>France</th>\n",
       "      <th>Germany</th>\n",
       "      <th>Italy</th>\n",
       "      <th>Japan</th>\n",
       "      <th>Mexico</th>\n",
       "      <th>South Korea</th>\n",
       "      <th>UK</th>\n",
       "      <th>USA</th>\n",
       "    </tr>\n",
       "  </thead>\n",
       "  <tbody>\n",
       "    <tr>\n",
       "      <th>0</th>\n",
       "      <td>1990</td>\n",
       "      <td>NaN</td>\n",
       "      <td>1.87</td>\n",
       "      <td>3.63</td>\n",
       "      <td>2.65</td>\n",
       "      <td>4.59</td>\n",
       "      <td>3.16</td>\n",
       "      <td>1.00</td>\n",
       "      <td>2.05</td>\n",
       "      <td>2.82</td>\n",
       "      <td>1.16</td>\n",
       "    </tr>\n",
       "    <tr>\n",
       "      <th>1</th>\n",
       "      <td>1991</td>\n",
       "      <td>1.96</td>\n",
       "      <td>1.92</td>\n",
       "      <td>3.45</td>\n",
       "      <td>2.90</td>\n",
       "      <td>4.50</td>\n",
       "      <td>3.46</td>\n",
       "      <td>1.30</td>\n",
       "      <td>2.49</td>\n",
       "      <td>3.01</td>\n",
       "      <td>1.14</td>\n",
       "    </tr>\n",
       "    <tr>\n",
       "      <th>2</th>\n",
       "      <td>1992</td>\n",
       "      <td>1.89</td>\n",
       "      <td>1.73</td>\n",
       "      <td>3.56</td>\n",
       "      <td>3.27</td>\n",
       "      <td>4.53</td>\n",
       "      <td>3.58</td>\n",
       "      <td>1.50</td>\n",
       "      <td>2.65</td>\n",
       "      <td>3.06</td>\n",
       "      <td>1.13</td>\n",
       "    </tr>\n",
       "    <tr>\n",
       "      <th>3</th>\n",
       "      <td>1993</td>\n",
       "      <td>1.73</td>\n",
       "      <td>1.57</td>\n",
       "      <td>3.41</td>\n",
       "      <td>3.07</td>\n",
       "      <td>3.68</td>\n",
       "      <td>4.16</td>\n",
       "      <td>1.56</td>\n",
       "      <td>2.88</td>\n",
       "      <td>2.84</td>\n",
       "      <td>1.11</td>\n",
       "    </tr>\n",
       "    <tr>\n",
       "      <th>4</th>\n",
       "      <td>1994</td>\n",
       "      <td>1.84</td>\n",
       "      <td>1.45</td>\n",
       "      <td>3.59</td>\n",
       "      <td>3.52</td>\n",
       "      <td>3.70</td>\n",
       "      <td>4.36</td>\n",
       "      <td>1.48</td>\n",
       "      <td>2.87</td>\n",
       "      <td>2.99</td>\n",
       "      <td>1.11</td>\n",
       "    </tr>\n",
       "  </tbody>\n",
       "</table>\n",
       "</div>"
      ],
      "text/plain": [
       "   Year  Australia  Canada  France  Germany  Italy  Japan  Mexico  \\\n",
       "0  1990        NaN    1.87    3.63     2.65   4.59   3.16    1.00   \n",
       "1  1991       1.96    1.92    3.45     2.90   4.50   3.46    1.30   \n",
       "2  1992       1.89    1.73    3.56     3.27   4.53   3.58    1.50   \n",
       "3  1993       1.73    1.57    3.41     3.07   3.68   4.16    1.56   \n",
       "4  1994       1.84    1.45    3.59     3.52   3.70   4.36    1.48   \n",
       "\n",
       "   South Korea    UK   USA  \n",
       "0         2.05  2.82  1.16  \n",
       "1         2.49  3.01  1.14  \n",
       "2         2.65  3.06  1.13  \n",
       "3         2.88  2.84  1.11  \n",
       "4         2.87  2.99  1.11  "
      ]
     },
     "execution_count": 3,
     "metadata": {},
     "output_type": "execute_result"
    }
   ],
   "source": [
    "gasp.head()"
   ]
  },
  {
   "cell_type": "code",
   "execution_count": 4,
   "id": "29d50f01",
   "metadata": {},
   "outputs": [
    {
     "data": {
      "text/plain": [
       "(19, 11)"
      ]
     },
     "execution_count": 4,
     "metadata": {},
     "output_type": "execute_result"
    }
   ],
   "source": [
    "gasp.shape"
   ]
  },
  {
   "cell_type": "code",
   "execution_count": 5,
   "id": "1629ae41",
   "metadata": {
    "scrolled": true
   },
   "outputs": [
    {
     "data": {
      "text/plain": [
       "Year             int64\n",
       "Australia      float64\n",
       "Canada         float64\n",
       "France         float64\n",
       "Germany        float64\n",
       "Italy          float64\n",
       "Japan          float64\n",
       "Mexico         float64\n",
       "South Korea    float64\n",
       "UK             float64\n",
       "USA            float64\n",
       "dtype: object"
      ]
     },
     "execution_count": 5,
     "metadata": {},
     "output_type": "execute_result"
    }
   ],
   "source": [
    "gasp.dtypes"
   ]
  },
  {
   "cell_type": "code",
   "execution_count": 4,
   "id": "1fe1a7b5",
   "metadata": {},
   "outputs": [
    {
     "data": {
      "text/plain": [
       "5    1995\n",
       "6    1996\n",
       "7    1997\n",
       "8    1998\n",
       "9    1999\n",
       "Name: Year, dtype: int64"
      ]
     },
     "execution_count": 4,
     "metadata": {},
     "output_type": "execute_result"
    }
   ],
   "source": [
    "gasp['Year'][5:10:1] #[start : end : interval]"
   ]
  },
  {
   "cell_type": "code",
   "execution_count": 5,
   "id": "18a2a11f",
   "metadata": {
    "scrolled": false
   },
   "outputs": [
    {
     "data": {
      "image/png": "[encoded data removed]",
      "text/plain": [
       "<Figure size 792x360 with 1 Axes>"
      ]
     },
     "metadata": {
      "needs_background": "light"
     },
     "output_type": "display_data"
    }
   ],
   "source": [
    "plt.figure(figsize=(11, 5))\n",
    "plt.title('Gas Prices over Time(in USD)', fontsize=25)\n",
    "#plt.plot(gasp['Year'], gasp['USA'], 'b.-', label='USA') \n",
    "#plt.plot(gasp['Year'], gasp['Canada'], 'r.-', label='Canada')\n",
    "#plt.plot(gasp['Year'], gasp['South Korea'], 'g.-', label='Korea')\n",
    "#plt.plot(gasp['Year'], gasp['Australia'], 'y.-', label='Australia')\n",
    "countries_to_look_at = ['Australia', 'USA', 'Canada']\n",
    "for country in gasp[1:0]:\n",
    "    if country != 'Year':\n",
    "        plt.plot(gasp['Year'], gasp[country], marker='''o''', label=country)\n",
    "\n",
    "#print(gasp.Year[::3])\n",
    "plt.xticks(gasp['Year'][::2].tolist()+[2011])\n",
    "\n",
    "plt.xlabel('Year')\n",
    "plt.ylabel('US Dollars')\n",
    "plt.legend(loc=0)\n",
    "\n",
    "plt.savefig('Gas_Price_figure.png', dpi=300)\n",
    "plt.show()"
   ]
  },
  {
   "cell_type": "markdown",
   "id": "2e514cc0",
   "metadata": {},
   "source": [
    "## load fifa Data"
   ]
  },
  {
   "cell_type": "code",
   "execution_count": 6,
   "id": "b0ebd282",
   "metadata": {},
   "outputs": [],
   "source": [
    "fifa = pd.read_csv('fifa_data.csv')"
   ]
  },
  {
   "cell_type": "code",
   "execution_count": 7,
   "id": "fa1a9b1d",
   "metadata": {},
   "outputs": [
    {
     "data": {
      "text/html": [
       "<div>\n",
       "<style scoped>\n",
       "    .dataframe tbody tr th:only-of-type {\n",
       "        vertical-align: middle;\n",
       "    }\n",
       "\n",
       "    .dataframe tbody tr th {\n",
       "        vertical-align: top;\n",
       "    }\n",
       "\n",
       "    .dataframe thead th {\n",
       "        text-align: right;\n",
       "    }\n",
       "</style>\n",
       "<table border=\"1\" class=\"dataframe\">\n",
       "  <thead>\n",
       "    <tr style=\"text-align: right;\">\n",
       "      <th></th>\n",
       "      <th>Unnamed: 0</th>\n",
       "      <th>ID</th>\n",
       "      <th>Name</th>\n",
       "      <th>Age</th>\n",
       "      <th>Photo</th>\n",
       "      <th>Nationality</th>\n",
       "      <th>Flag</th>\n",
       "      <th>Overall</th>\n",
       "      <th>Potential</th>\n",
       "      <th>Club</th>\n",
       "      <th>...</th>\n",
       "      <th>Composure</th>\n",
       "      <th>Marking</th>\n",
       "      <th>StandingTackle</th>\n",
       "      <th>SlidingTackle</th>\n",
       "      <th>GKDiving</th>\n",
       "      <th>GKHandling</th>\n",
       "      <th>GKKicking</th>\n",
       "      <th>GKPositioning</th>\n",
       "      <th>GKReflexes</th>\n",
       "      <th>Release Clause</th>\n",
       "    </tr>\n",
       "  </thead>\n",
       "  <tbody>\n",
       "    <tr>\n",
       "      <th>0</th>\n",
       "      <td>0</td>\n",
       "      <td>158023</td>\n",
       "      <td>L. Messi</td>\n",
       "      <td>31</td>\n",
       "      <td>https://cdn.sofifa.org/players/4/19/158023.png</td>\n",
       "      <td>Argentina</td>\n",
       "      <td>https://cdn.sofifa.org/flags/52.png</td>\n",
       "      <td>94</td>\n",
       "      <td>94</td>\n",
       "      <td>FC Barcelona</td>\n",
       "      <td>...</td>\n",
       "      <td>96.0</td>\n",
       "      <td>33.0</td>\n",
       "      <td>28.0</td>\n",
       "      <td>26.0</td>\n",
       "      <td>6.0</td>\n",
       "      <td>11.0</td>\n",
       "      <td>15.0</td>\n",
       "      <td>14.0</td>\n",
       "      <td>8.0</td>\n",
       "      <td>€226.5M</td>\n",
       "    </tr>\n",
       "    <tr>\n",
       "      <th>1</th>\n",
       "      <td>1</td>\n",
       "      <td>20801</td>\n",
       "      <td>Cristiano Ronaldo</td>\n",
       "      <td>33</td>\n",
       "      <td>https://cdn.sofifa.org/players/4/19/20801.png</td>\n",
       "      <td>Portugal</td>\n",
       "      <td>https://cdn.sofifa.org/flags/38.png</td>\n",
       "      <td>94</td>\n",
       "      <td>94</td>\n",
       "      <td>Juventus</td>\n",
       "      <td>...</td>\n",
       "      <td>95.0</td>\n",
       "      <td>28.0</td>\n",
       "      <td>31.0</td>\n",
       "      <td>23.0</td>\n",
       "      <td>7.0</td>\n",
       "      <td>11.0</td>\n",
       "      <td>15.0</td>\n",
       "      <td>14.0</td>\n",
       "      <td>11.0</td>\n",
       "      <td>€127.1M</td>\n",
       "    </tr>\n",
       "    <tr>\n",
       "      <th>2</th>\n",
       "      <td>2</td>\n",
       "      <td>190871</td>\n",
       "      <td>Neymar Jr</td>\n",
       "      <td>26</td>\n",
       "      <td>https://cdn.sofifa.org/players/4/19/190871.png</td>\n",
       "      <td>Brazil</td>\n",
       "      <td>https://cdn.sofifa.org/flags/54.png</td>\n",
       "      <td>92</td>\n",
       "      <td>93</td>\n",
       "      <td>Paris Saint-Germain</td>\n",
       "      <td>...</td>\n",
       "      <td>94.0</td>\n",
       "      <td>27.0</td>\n",
       "      <td>24.0</td>\n",
       "      <td>33.0</td>\n",
       "      <td>9.0</td>\n",
       "      <td>9.0</td>\n",
       "      <td>15.0</td>\n",
       "      <td>15.0</td>\n",
       "      <td>11.0</td>\n",
       "      <td>€228.1M</td>\n",
       "    </tr>\n",
       "  </tbody>\n",
       "</table>\n",
       "<p>3 rows × 89 columns</p>\n",
       "</div>"
      ],
      "text/plain": [
       "   Unnamed: 0      ID               Name  Age  \\\n",
       "0           0  158023           L. Messi   31   \n",
       "1           1   20801  Cristiano Ronaldo   33   \n",
       "2           2  190871          Neymar Jr   26   \n",
       "\n",
       "                                            Photo Nationality  \\\n",
       "0  https://cdn.sofifa.org/players/4/19/158023.png   Argentina   \n",
       "1   https://cdn.sofifa.org/players/4/19/20801.png    Portugal   \n",
       "2  https://cdn.sofifa.org/players/4/19/190871.png      Brazil   \n",
       "\n",
       "                                  Flag  Overall  Potential  \\\n",
       "0  https://cdn.sofifa.org/flags/52.png       94         94   \n",
       "1  https://cdn.sofifa.org/flags/38.png       94         94   \n",
       "2  https://cdn.sofifa.org/flags/54.png       92         93   \n",
       "\n",
       "                  Club  ... Composure Marking StandingTackle  SlidingTackle  \\\n",
       "0         FC Barcelona  ...      96.0    33.0           28.0           26.0   \n",
       "1             Juventus  ...      95.0    28.0           31.0           23.0   \n",
       "2  Paris Saint-Germain  ...      94.0    27.0           24.0           33.0   \n",
       "\n",
       "  GKDiving  GKHandling  GKKicking  GKPositioning GKReflexes Release Clause  \n",
       "0      6.0        11.0       15.0           14.0        8.0        €226.5M  \n",
       "1      7.0        11.0       15.0           14.0       11.0        €127.1M  \n",
       "2      9.0         9.0       15.0           15.0       11.0        €228.1M  \n",
       "\n",
       "[3 rows x 89 columns]"
      ]
     },
     "execution_count": 7,
     "metadata": {},
     "output_type": "execute_result"
    }
   ],
   "source": [
    "fifa.head(3)"
   ]
  },
  {
   "cell_type": "code",
   "execution_count": 23,
   "id": "bc01dfd0",
   "metadata": {},
   "outputs": [
    {
     "data": {
      "text/plain": [
       "(18207, 89)"
      ]
     },
     "execution_count": 23,
     "metadata": {},
     "output_type": "execute_result"
    }
   ],
   "source": [
    "fifa.shape"
   ]
  },
  {
   "cell_type": "markdown",
   "id": "dea6ab07",
   "metadata": {},
   "source": [
    "### histograms"
   ]
  },
  {
   "cell_type": "code",
   "execution_count": 8,
   "id": "563db297",
   "metadata": {
    "scrolled": true
   },
   "outputs": [
    {
     "name": "stdout",
     "output_type": "stream",
     "text": [
      "[ 40  50  60  70  80  90 100]\n"
     ]
    },
    {
     "data": {
      "image/png": "[encoded data removed]",
      "text/plain": [
       "<Figure size 432x288 with 1 Axes>"
      ]
     },
     "metadata": {
      "needs_background": "light"
     },
     "output_type": "display_data"
    }
   ],
   "source": [
    "#bins = [40, 50, 60, 70, 80, 90, 100]\n",
    "bins = np.arange(40, 110, 10)\n",
    "print(bins)\n",
    "plt.hist(fifa['Overall'], bins=bins, color='#3de3b4')\n",
    "plt.xticks(bins)\n",
    "plt.ylabel('Number of players')\n",
    "plt.xlabel('Skill Level')\n",
    "plt.title('Distribution of Player Skills in FIFA 2018')\n",
    "\n",
    "plt.yticks([])\n",
    "\n",
    "plt.show()"
   ]
  },
  {
   "cell_type": "code",
   "execution_count": 9,
   "id": "c052178b",
   "metadata": {
    "scrolled": false
   },
   "outputs": [
    {
     "data": {
      "text/plain": [
       "<bound method Series.count of 0     94\n",
       "1     94\n",
       "2     92\n",
       "3     91\n",
       "4     91\n",
       "5     91\n",
       "6     91\n",
       "7     91\n",
       "8     91\n",
       "9     90\n",
       "10    90\n",
       "11    90\n",
       "12    90\n",
       "13    90\n",
       "Name: Overall, dtype: int64>"
      ]
     },
     "execution_count": 9,
     "metadata": {},
     "output_type": "execute_result"
    }
   ],
   "source": [
    "fifa[fifa['Overall'] >= 90]['Overall'].count"
   ]
  },
  {
   "cell_type": "markdown",
   "id": "8cef61b2",
   "metadata": {},
   "source": [
    "## Pie Charts"
   ]
  },
  {
   "cell_type": "code",
   "execution_count": 10,
   "id": "42e20d38",
   "metadata": {},
   "outputs": [
    {
     "data": {
      "text/plain": [
       "0         Left\n",
       "1        Right\n",
       "2        Right\n",
       "3        Right\n",
       "4        Right\n",
       "         ...  \n",
       "18202    Right\n",
       "18203    Right\n",
       "18204    Right\n",
       "18205    Right\n",
       "18206    Right\n",
       "Name: Preferred Foot, Length: 18207, dtype: object"
      ]
     },
     "execution_count": 10,
     "metadata": {},
     "output_type": "execute_result"
    }
   ],
   "source": [
    "fifa['Preferred Foot']"
   ]
  },
  {
   "cell_type": "code",
   "execution_count": 11,
   "id": "89deee9d",
   "metadata": {},
   "outputs": [
    {
     "data": {
      "text/plain": [
       "13948"
      ]
     },
     "execution_count": 11,
     "metadata": {},
     "output_type": "execute_result"
    }
   ],
   "source": [
    "left = fifa.loc[fifa['Preferred Foot'] == 'Left'].count()[0]\n",
    "right = fifa.loc[fifa['Preferred Foot'] == 'Right'].count()[0]\n",
    "right"
   ]
  },
  {
   "cell_type": "code",
   "execution_count": 12,
   "id": "57451fd3",
   "metadata": {},
   "outputs": [
    {
     "data": {
      "image/png": "[encoded data removed]",
      "text/plain": [
       "<Figure size 432x288 with 1 Axes>"
      ]
     },
     "metadata": {},
     "output_type": "display_data"
    }
   ],
   "source": [
    "labels = ['Left', 'Right']\n",
    "colors = ['#d3fc03', '#58c8f5']\n",
    "plt.pie([left, right], labels=labels, colors=colors, autopct='%.2f%%')\n",
    "plt.title('Foot Preference of FIFA Players')\n",
    "plt.show()"
   ]
  },
  {
   "cell_type": "code",
   "execution_count": 13,
   "id": "18966cf8",
   "metadata": {
    "scrolled": true
   },
   "outputs": [],
   "source": [
    "fifa['Weight'] = [int(x.strip('lbs')) if type(x)==str else x for x in fifa['Weight']]\n",
    "#fifa['Weight'].apply(lambda x : int(x) if type(x)==str else x)"
   ]
  },
  {
   "cell_type": "code",
   "execution_count": 17,
   "id": "4a2a2eaf",
   "metadata": {},
   "outputs": [],
   "source": [
    "light = fifa.loc[fifa['Weight'] < 125].count()[0]\n",
    "light_medium = fifa.loc[(fifa['Weight'] >= 125) & (fifa['Weight'] < 150)].count()[0]\n",
    "medium = fifa.loc[(fifa['Weight'] >= 150) & (fifa['Weight'] < 175)].count()[0]\n",
    "medium_heavy = fifa.loc[(fifa['Weight'] >= 175) & (fifa['Weight'] < 200)].count()[0]\n",
    "heavy = fifa.loc[(fifa['Weight'] >=200)].count()[0]"
   ]
  },
  {
   "cell_type": "code",
   "execution_count": 27,
   "id": "5cbdfce0",
   "metadata": {
    "scrolled": true
   },
   "outputs": [
    {
     "data": {
      "image/png": "[encoded data removed]",
      "text/plain": [
       "<Figure size 432x288 with 1 Axes>"
      ]
     },
     "metadata": {},
     "output_type": "display_data"
    }
   ],
   "source": [
    "weights = [light, light_medium, medium, medium_heavy, heavy]\n",
    "\n",
    "plt.style.use('ggplot')\n",
    "labels = ['under 125', '125-150', '150-175', '175-200', 'over 200']\n",
    "explode = (.4, .2, 0, 0, .6)\n",
    "plt.title('Weight Distribution in FIFA Players (in lbs)')\n",
    "plt.pie(weights, labels=labels, autopct='%.2f%%', pctdistance=0.75, explode=explode)\n",
    "plt.show()"
   ]
  },
  {
   "cell_type": "code",
   "execution_count": 29,
   "id": "8eab9d7a",
   "metadata": {},
   "outputs": [
    {
     "data": {
      "text/html": [
       "<div>\n",
       "<style scoped>\n",
       "    .dataframe tbody tr th:only-of-type {\n",
       "        vertical-align: middle;\n",
       "    }\n",
       "\n",
       "    .dataframe tbody tr th {\n",
       "        vertical-align: top;\n",
       "    }\n",
       "\n",
       "    .dataframe thead th {\n",
       "        text-align: right;\n",
       "    }\n",
       "</style>\n",
       "<table border=\"1\" class=\"dataframe\">\n",
       "  <thead>\n",
       "    <tr style=\"text-align: right;\">\n",
       "      <th></th>\n",
       "      <th>Unnamed: 0</th>\n",
       "      <th>ID</th>\n",
       "      <th>Name</th>\n",
       "      <th>Age</th>\n",
       "      <th>Photo</th>\n",
       "      <th>Nationality</th>\n",
       "      <th>Flag</th>\n",
       "      <th>Overall</th>\n",
       "      <th>Potential</th>\n",
       "      <th>Club</th>\n",
       "      <th>...</th>\n",
       "      <th>Composure</th>\n",
       "      <th>Marking</th>\n",
       "      <th>StandingTackle</th>\n",
       "      <th>SlidingTackle</th>\n",
       "      <th>GKDiving</th>\n",
       "      <th>GKHandling</th>\n",
       "      <th>GKKicking</th>\n",
       "      <th>GKPositioning</th>\n",
       "      <th>GKReflexes</th>\n",
       "      <th>Release Clause</th>\n",
       "    </tr>\n",
       "  </thead>\n",
       "  <tbody>\n",
       "    <tr>\n",
       "      <th>0</th>\n",
       "      <td>0</td>\n",
       "      <td>158023</td>\n",
       "      <td>L. Messi</td>\n",
       "      <td>31</td>\n",
       "      <td>https://cdn.sofifa.org/players/4/19/158023.png</td>\n",
       "      <td>Argentina</td>\n",
       "      <td>https://cdn.sofifa.org/flags/52.png</td>\n",
       "      <td>94</td>\n",
       "      <td>94</td>\n",
       "      <td>FC Barcelona</td>\n",
       "      <td>...</td>\n",
       "      <td>96.0</td>\n",
       "      <td>33.0</td>\n",
       "      <td>28.0</td>\n",
       "      <td>26.0</td>\n",
       "      <td>6.0</td>\n",
       "      <td>11.0</td>\n",
       "      <td>15.0</td>\n",
       "      <td>14.0</td>\n",
       "      <td>8.0</td>\n",
       "      <td>€226.5M</td>\n",
       "    </tr>\n",
       "    <tr>\n",
       "      <th>1</th>\n",
       "      <td>1</td>\n",
       "      <td>20801</td>\n",
       "      <td>Cristiano Ronaldo</td>\n",
       "      <td>33</td>\n",
       "      <td>https://cdn.sofifa.org/players/4/19/20801.png</td>\n",
       "      <td>Portugal</td>\n",
       "      <td>https://cdn.sofifa.org/flags/38.png</td>\n",
       "      <td>94</td>\n",
       "      <td>94</td>\n",
       "      <td>Juventus</td>\n",
       "      <td>...</td>\n",
       "      <td>95.0</td>\n",
       "      <td>28.0</td>\n",
       "      <td>31.0</td>\n",
       "      <td>23.0</td>\n",
       "      <td>7.0</td>\n",
       "      <td>11.0</td>\n",
       "      <td>15.0</td>\n",
       "      <td>14.0</td>\n",
       "      <td>11.0</td>\n",
       "      <td>€127.1M</td>\n",
       "    </tr>\n",
       "    <tr>\n",
       "      <th>2</th>\n",
       "      <td>2</td>\n",
       "      <td>190871</td>\n",
       "      <td>Neymar Jr</td>\n",
       "      <td>26</td>\n",
       "      <td>https://cdn.sofifa.org/players/4/19/190871.png</td>\n",
       "      <td>Brazil</td>\n",
       "      <td>https://cdn.sofifa.org/flags/54.png</td>\n",
       "      <td>92</td>\n",
       "      <td>93</td>\n",
       "      <td>Paris Saint-Germain</td>\n",
       "      <td>...</td>\n",
       "      <td>94.0</td>\n",
       "      <td>27.0</td>\n",
       "      <td>24.0</td>\n",
       "      <td>33.0</td>\n",
       "      <td>9.0</td>\n",
       "      <td>9.0</td>\n",
       "      <td>15.0</td>\n",
       "      <td>15.0</td>\n",
       "      <td>11.0</td>\n",
       "      <td>€228.1M</td>\n",
       "    </tr>\n",
       "    <tr>\n",
       "      <th>3</th>\n",
       "      <td>3</td>\n",
       "      <td>193080</td>\n",
       "      <td>De Gea</td>\n",
       "      <td>27</td>\n",
       "      <td>https://cdn.sofifa.org/players/4/19/193080.png</td>\n",
       "      <td>Spain</td>\n",
       "      <td>https://cdn.sofifa.org/flags/45.png</td>\n",
       "      <td>91</td>\n",
       "      <td>93</td>\n",
       "      <td>Manchester United</td>\n",
       "      <td>...</td>\n",
       "      <td>68.0</td>\n",
       "      <td>15.0</td>\n",
       "      <td>21.0</td>\n",
       "      <td>13.0</td>\n",
       "      <td>90.0</td>\n",
       "      <td>85.0</td>\n",
       "      <td>87.0</td>\n",
       "      <td>88.0</td>\n",
       "      <td>94.0</td>\n",
       "      <td>€138.6M</td>\n",
       "    </tr>\n",
       "    <tr>\n",
       "      <th>4</th>\n",
       "      <td>4</td>\n",
       "      <td>192985</td>\n",
       "      <td>K. De Bruyne</td>\n",
       "      <td>27</td>\n",
       "      <td>https://cdn.sofifa.org/players/4/19/192985.png</td>\n",
       "      <td>Belgium</td>\n",
       "      <td>https://cdn.sofifa.org/flags/7.png</td>\n",
       "      <td>91</td>\n",
       "      <td>92</td>\n",
       "      <td>Manchester City</td>\n",
       "      <td>...</td>\n",
       "      <td>88.0</td>\n",
       "      <td>68.0</td>\n",
       "      <td>58.0</td>\n",
       "      <td>51.0</td>\n",
       "      <td>15.0</td>\n",
       "      <td>13.0</td>\n",
       "      <td>5.0</td>\n",
       "      <td>10.0</td>\n",
       "      <td>13.0</td>\n",
       "      <td>€196.4M</td>\n",
       "    </tr>\n",
       "  </tbody>\n",
       "</table>\n",
       "<p>5 rows × 89 columns</p>\n",
       "</div>"
      ],
      "text/plain": [
       "   Unnamed: 0      ID               Name  Age  \\\n",
       "0           0  158023           L. Messi   31   \n",
       "1           1   20801  Cristiano Ronaldo   33   \n",
       "2           2  190871          Neymar Jr   26   \n",
       "3           3  193080             De Gea   27   \n",
       "4           4  192985       K. De Bruyne   27   \n",
       "\n",
       "                                            Photo Nationality  \\\n",
       "0  https://cdn.sofifa.org/players/4/19/158023.png   Argentina   \n",
       "1   https://cdn.sofifa.org/players/4/19/20801.png    Portugal   \n",
       "2  https://cdn.sofifa.org/players/4/19/190871.png      Brazil   \n",
       "3  https://cdn.sofifa.org/players/4/19/193080.png       Spain   \n",
       "4  https://cdn.sofifa.org/players/4/19/192985.png     Belgium   \n",
       "\n",
       "                                  Flag  Overall  Potential  \\\n",
       "0  https://cdn.sofifa.org/flags/52.png       94         94   \n",
       "1  https://cdn.sofifa.org/flags/38.png       94         94   \n",
       "2  https://cdn.sofifa.org/flags/54.png       92         93   \n",
       "3  https://cdn.sofifa.org/flags/45.png       91         93   \n",
       "4   https://cdn.sofifa.org/flags/7.png       91         92   \n",
       "\n",
       "                  Club  ... Composure Marking StandingTackle  SlidingTackle  \\\n",
       "0         FC Barcelona  ...      96.0    33.0           28.0           26.0   \n",
       "1             Juventus  ...      95.0    28.0           31.0           23.0   \n",
       "2  Paris Saint-Germain  ...      94.0    27.0           24.0           33.0   \n",
       "3    Manchester United  ...      68.0    15.0           21.0           13.0   \n",
       "4      Manchester City  ...      88.0    68.0           58.0           51.0   \n",
       "\n",
       "  GKDiving  GKHandling  GKKicking  GKPositioning GKReflexes Release Clause  \n",
       "0      6.0        11.0       15.0           14.0        8.0        €226.5M  \n",
       "1      7.0        11.0       15.0           14.0       11.0        €127.1M  \n",
       "2      9.0         9.0       15.0           15.0       11.0        €228.1M  \n",
       "3     90.0        85.0       87.0           88.0       94.0        €138.6M  \n",
       "4     15.0        13.0        5.0           10.0       13.0        €196.4M  \n",
       "\n",
       "[5 rows x 89 columns]"
      ]
     },
     "execution_count": 29,
     "metadata": {},
     "output_type": "execute_result"
    }
   ],
   "source": [
    "fifa.head()"
   ]
  },
  {
   "cell_type": "code",
   "execution_count": 49,
   "id": "46f54018",
   "metadata": {},
   "outputs": [
    {
     "data": {
      "image/png": "[encoded data removed]",
      "text/plain": [
       "<Figure size 500x800 with 1 Axes>"
      ]
     },
     "metadata": {},
     "output_type": "display_data"
    }
   ],
   "source": [
    "plt.style.use('default')\n",
    "plt.figure(figsize=(5, 8))\n",
    "\n",
    "barcelona = fifa.loc[fifa['Club'] == 'FC Barcelona']['Overall']\n",
    "madrid = fifa.loc[fifa['Club'] == 'Real Madrid']['Overall']\n",
    "revs = fifa.loc[fifa['Club'] == 'New England Revolution']['Overall']\n",
    "labels = ['FC Barcelona', 'Real Madrid', 'NE Revolution']\n",
    "\n",
    "boxes = plt.boxplot([barcelona, madrid, revs], labels=labels, patch_artist=True, medianprops={'linewidth':2})\n",
    "\n",
    "colors = []\n",
    "for box in boxes['boxes']:\n",
    "    #set edge color\n",
    "    box.set(color='#4386f4', linewidth=2)\n",
    "    #change fill color\n",
    "    box.set(facecolor='#e0e0e0')\n",
    "\n",
    "plt.title('Professional Soccer Team Comparison')\n",
    "plt.ylabel('FIFA Overall Rating')\n",
    "\n",
    "plt.show()"
   ]
  }
 ],
 "metadata": {
  "kernelspec": {
   "display_name": "Python 3 (ipykernel)",
   "language": "python",
   "name": "python3"
  },
  "language_info": {
   "codemirror_mode": {
    "name": "ipython",
    "version": 3
   },
   "file_extension": ".py",
   "mimetype": "text/x-python",
   "name": "python",
   "nbconvert_exporter": "python",
   "pygments_lexer": "ipython3",
   "version": "3.9.12"
  }
 },
 "nbformat": 4,
 "nbformat_minor": 5
}
